{
  "nbformat": 4,
  "nbformat_minor": 0,
  "metadata": {
    "colab": {
      "name": "NER_class.ipynb",
      "provenance": [],
      "collapsed_sections": [],
      "include_colab_link": true
    },
    "kernelspec": {
      "name": "python3",
      "display_name": "Python 3"
    },
    "language_info": {
      "name": "python"
    },
    "accelerator": "GPU"
  },
  "cells": [
    {
      "cell_type": "markdown",
      "metadata": {
        "id": "view-in-github",
        "colab_type": "text"
      },
      "source": [
        "<a href=\"https://colab.research.google.com/github/Luceliafn/PythonFundamentos/blob/master/NER_class.ipynb\" target=\"_parent\"><img src=\"https://colab.research.google.com/assets/colab-badge.svg\" alt=\"Open In Colab\"/></a>"
      ]
    },
    {
      "cell_type": "code",
      "metadata": {
        "colab": {
          "base_uri": "https://localhost:8080/"
        },
        "id": "39qoy8kYcyEZ",
        "outputId": "979853fc-08b6-42ac-b221-7a468f822285"
      },
      "source": [
        "!pip install pytorch-crf\n",
        "!pip install seqeval"
      ],
      "execution_count": null,
      "outputs": [
        {
          "output_type": "stream",
          "name": "stdout",
          "text": [
            "Collecting pytorch-crf\n",
            "  Downloading pytorch_crf-0.7.2-py3-none-any.whl (9.5 kB)\n",
            "Installing collected packages: pytorch-crf\n",
            "Successfully installed pytorch-crf-0.7.2\n",
            "Collecting seqeval\n",
            "  Downloading seqeval-1.2.2.tar.gz (43 kB)\n",
            "\u001b[K     |████████████████████████████████| 43 kB 2.0 MB/s \n",
            "\u001b[?25hRequirement already satisfied: numpy>=1.14.0 in /usr/local/lib/python3.7/dist-packages (from seqeval) (1.19.5)\n",
            "Requirement already satisfied: scikit-learn>=0.21.3 in /usr/local/lib/python3.7/dist-packages (from seqeval) (0.22.2.post1)\n",
            "Requirement already satisfied: joblib>=0.11 in /usr/local/lib/python3.7/dist-packages (from scikit-learn>=0.21.3->seqeval) (1.0.1)\n",
            "Requirement already satisfied: scipy>=0.17.0 in /usr/local/lib/python3.7/dist-packages (from scikit-learn>=0.21.3->seqeval) (1.4.1)\n",
            "Building wheels for collected packages: seqeval\n",
            "  Building wheel for seqeval (setup.py) ... \u001b[?25l\u001b[?25hdone\n",
            "  Created wheel for seqeval: filename=seqeval-1.2.2-py3-none-any.whl size=16181 sha256=3f6a1bba94e9cd4cd7cc0ca9b545f6a960e88f1a2b0e6142eda96b89156e2c10\n",
            "  Stored in directory: /root/.cache/pip/wheels/05/96/ee/7cac4e74f3b19e3158dce26a20a1c86b3533c43ec72a549fd7\n",
            "Successfully built seqeval\n",
            "Installing collected packages: seqeval\n",
            "Successfully installed seqeval-1.2.2\n"
          ]
        }
      ]
    },
    {
      "cell_type": "markdown",
      "metadata": {
        "id": "tplM0Q18J-Bn"
      },
      "source": [
        "# Aula de Reconhecimento de Entidades Nomeadas utilizando deep learning\n",
        "\n",
        "![ner_example.png](data:image/png;base64,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)"
      ]
    },
    {
      "cell_type": "code",
      "metadata": {
        "colab": {
          "base_uri": "https://localhost:8080/"
        },
        "id": "x4cvz8gCKBtx",
        "outputId": "e6172ea2-a7f6-4623-ad9d-594ae57731d8"
      },
      "source": [
        "dataset = 'nomeacao_comissionado' # Opcoes: 'aposentadoria' ou 'nomeacao_comissionado'\n",
        "\n",
        "if dataset == 'aposentadoria':\n",
        "    ## Download do dataset de aposentadoria\n",
        "    # Download conjunto de treinamento\n",
        "    !gdown --id 1HUdYvPrg-nA1sEUBMBFsIdTlnNoM9fCu\n",
        "    # Download conjunto de validacao\n",
        "    !gdown --id 12VCOinAkxH-2BvY3JzclwoYMHD_HrGMq\n",
        "    # Download conjunto de teste\n",
        "    !gdown --id 15ZRzmkk1Y70R8tVlmM1qKNzZYLIX5LXj\n",
        "else:\n",
        "    ## Download do dataset de nomeacao comissionado\n",
        "    # Download conjunto de treinamento\n",
        "    !gdown --id 18HZgSU6mdoDRUj8iuqBd8jKthoUdNbp0\n",
        "    # Download conjunto de validacao\n",
        "    !gdown --id 1t6nJInf8WBGUMWKeNaSOojJN9jH4wrVX\n",
        "    # Download conjunto de teste\n",
        "    !gdown --id 1N88b6KVu9L0mZhPz8on7NDyLyBMQmiaK"
      ],
      "execution_count": null,
      "outputs": [
        {
          "output_type": "stream",
          "name": "stdout",
          "text": [
            "Downloading...\n",
            "From: https://drive.google.com/uc?id=18HZgSU6mdoDRUj8iuqBd8jKthoUdNbp0\n",
            "To: /content/nomeacao_comissionado_train.txt\n",
            "100% 598k/598k [00:00<00:00, 38.5MB/s]\n",
            "Downloading...\n",
            "From: https://drive.google.com/uc?id=1t6nJInf8WBGUMWKeNaSOojJN9jH4wrVX\n",
            "To: /content/nomeacao_comissionado_testa.txt\n",
            "100% 125k/125k [00:00<00:00, 19.2MB/s]\n",
            "Downloading...\n",
            "From: https://drive.google.com/uc?id=1N88b6KVu9L0mZhPz8on7NDyLyBMQmiaK\n",
            "To: /content/nomeacao_comissionado_testb.txt\n",
            "100% 121k/121k [00:00<00:00, 44.6MB/s]\n"
          ]
        }
      ]
    },
    {
      "cell_type": "markdown",
      "metadata": {
        "id": "rHG7W6t9CCc7"
      },
      "source": [
        "# Dados de aposentadoria padrão CoNLL"
      ]
    },
    {
      "cell_type": "code",
      "metadata": {
        "colab": {
          "base_uri": "https://localhost:8080/"
        },
        "id": "nQnFktdz-WcE",
        "outputId": "ab8602ac-52db-4916-9b4d-904742035b0c"
      },
      "source": [
        "train_path = '/content/' + dataset + '_train.txt'\n",
        "f = open(train_path, 'r').read().splitlines()\n",
        "f[:20]"
      ],
      "execution_count": null,
      "outputs": [
        {
          "output_type": "execute_result",
          "data": {
            "text/plain": [
              "['CONCEDER X X B-ATO',\n",
              " 'aposentadoria X X I-ATO',\n",
              " 'voluntaria X X O',\n",
              " 'ao X X O',\n",
              " 'servidor X X O',\n",
              " 'MANOEL X X B-NOME_ATO',\n",
              " 'FRANCISCO X X I-NOME_ATO',\n",
              " 'DOS X X I-NOME_ATO',\n",
              " 'SANTOS X X I-NOME_ATO',\n",
              " 'matricula X X O',\n",
              " 'no X X O',\n",
              " '000.000-X X X B-COD_MATRICULA_ATO',\n",
              " 'Tecnico X X B-CARGO',\n",
              " 'Socioeducativo X X I-CARGO',\n",
              " '- X X I-CARGO',\n",
              " 'Classe X X B-CLASSE',\n",
              " 'Especial X X I-CLASSE',\n",
              " 'Padrao X X B-PADRAO',\n",
              " 'V X X I-PADRAO',\n",
              " 'fundamentada X X B-FUND_LEGAL']"
            ]
          },
          "metadata": {},
          "execution_count": 3
        }
      ]
    },
    {
      "cell_type": "markdown",
      "metadata": {
        "id": "vadS9GDgDMsw"
      },
      "source": [
        "# Pré-processamento dos dados\n",
        "\n",
        "* Passo 1: Separar as palavras e as classes\n",
        "* Passo 2: Criar dicionarios de palavras e classes (utilizados para treinar o modelo neural)\n",
        "* Passo 3: Substituir as palavras pelo seu indice no dicionario criado\n",
        "* Passo 4: Adicionar tokens de inicio e final de sentenca\n",
        "* Passo 5: Criar os mini-batches de treinamento"
      ]
    },
    {
      "cell_type": "markdown",
      "metadata": {
        "id": "sBQowMBUYnoN"
      },
      "source": [
        "### Passo 1: Separando as palavras e as classes"
      ]
    },
    {
      "cell_type": "code",
      "metadata": {
        "id": "y0Wxom5HDP3Y"
      },
      "source": [
        "def preprocess(ner_set):\n",
        "    sentences = []\n",
        "    tags = []\n",
        "\n",
        "    temp_sentence = []\n",
        "    temp_tag = []\n",
        "    for line in ner_set:\n",
        "        try:\n",
        "            word, _, _, tag = line.split()\n",
        "            temp_sentence.append(word)\n",
        "            temp_tag.append(tag)\n",
        "        except:\n",
        "            sentences.append(temp_sentence)\n",
        "            tags.append(temp_tag)\n",
        "            temp_sentence = []\n",
        "            temp_tag = []\n",
        "\n",
        "    if temp_sentence:\n",
        "        sentences.append(temp_sentence)\n",
        "        tags.append(temp_tag)\n",
        "    return sentences, tags"
      ],
      "execution_count": null,
      "outputs": []
    },
    {
      "cell_type": "code",
      "metadata": {
        "id": "EN0JDpCoGOoD"
      },
      "source": [
        "train_x, train_y = preprocess(open('/content/' + dataset + '_train.txt', 'r'))\n",
        "valid_x, valid_y = preprocess(open('/content/' + dataset + '_testa.txt', 'r'))\n",
        "test_x, test_y = preprocess(open('/content/' + dataset + '_testb.txt', 'r'))"
      ],
      "execution_count": null,
      "outputs": []
    },
    {
      "cell_type": "code",
      "metadata": {
        "colab": {
          "base_uri": "https://localhost:8080/"
        },
        "id": "3XA04ZASGzUD",
        "outputId": "542f9235-12c0-40ce-f036-e8e88d6ff46c"
      },
      "source": [
        "print(' '.join(train_x[0]))\n",
        "print()\n",
        "print(' '.join(train_y[0]))"
      ],
      "execution_count": null,
      "outputs": [
        {
          "output_type": "stream",
          "name": "stdout",
          "text": [
            "CONCEDER aposentadoria voluntaria ao servidor MANOEL FRANCISCO DOS SANTOS matricula no 000.000-X Tecnico Socioeducativo - Classe Especial Padrao V fundamentada nos termos do artigo 0o incisos I II III e paragrafo unico da Emenda Constitucional no 00/0000 combinado com o artigo 00 da Lei Complementar no 000/0000 com as vantagens do artigo 0o da Lei no 0.000/00 Processo SEI no 00000-00000000/0000-00\n",
            "\n",
            "B-ATO I-ATO O O O B-NOME_ATO I-NOME_ATO I-NOME_ATO I-NOME_ATO O O B-COD_MATRICULA_ATO B-CARGO I-CARGO I-CARGO B-CLASSE I-CLASSE B-PADRAO I-PADRAO B-FUND_LEGAL I-FUND_LEGAL I-FUND_LEGAL I-FUND_LEGAL I-FUND_LEGAL I-FUND_LEGAL I-FUND_LEGAL I-FUND_LEGAL I-FUND_LEGAL I-FUND_LEGAL I-FUND_LEGAL I-FUND_LEGAL I-FUND_LEGAL I-FUND_LEGAL I-FUND_LEGAL I-FUND_LEGAL I-FUND_LEGAL I-FUND_LEGAL I-FUND_LEGAL I-FUND_LEGAL I-FUND_LEGAL I-FUND_LEGAL I-FUND_LEGAL I-FUND_LEGAL I-FUND_LEGAL I-FUND_LEGAL I-FUND_LEGAL I-FUND_LEGAL I-FUND_LEGAL I-FUND_LEGAL I-FUND_LEGAL I-FUND_LEGAL I-FUND_LEGAL I-FUND_LEGAL I-FUND_LEGAL I-FUND_LEGAL I-FUND_LEGAL I-FUND_LEGAL O O O B-PROCESSO\n"
          ]
        }
      ]
    },
    {
      "cell_type": "markdown",
      "metadata": {
        "id": "-uqFiTzzYvMJ"
      },
      "source": [
        "### Passo 2: Criando os dicionários de palavras e classes (utilizando o conjunto de treinamento)\n",
        "\n",
        "Incluindo os tokens especiais \\<UNK\\>, \\<BOS\\>, \\<EOS\\> de palavras e \\<PAD\\> para classes"
      ]
    },
    {
      "cell_type": "code",
      "metadata": {
        "id": "qBC5x0ArYuhW"
      },
      "source": [
        "from collections import OrderedDict\n",
        "\n",
        "def word_dict(sentences):\n",
        "    word2idx = OrderedDict({'<UNK>': 0, '<PAD>': 1, '<BOS>': 2, '<EOS>': 3})\n",
        "    for sentence in sentences:\n",
        "        for word in sentence:\n",
        "            if word not in word2idx:\n",
        "                word2idx[word] = len(word2idx)\n",
        "    return word2idx\n",
        "\n",
        "def tag_dict(tag_sentences):\n",
        "    tag2idx = OrderedDict({'<PAD>': 0})\n",
        "    for tags in tag_sentences:\n",
        "        for tag in tags:\n",
        "            if tag not in tag2idx:\n",
        "                tag2idx[tag] = len(tag2idx)\n",
        "    return tag2idx\n",
        "\n",
        "word2idx = word_dict(train_x)\n",
        "tag2idx  = tag_dict(train_y)"
      ],
      "execution_count": null,
      "outputs": []
    },
    {
      "cell_type": "code",
      "metadata": {
        "colab": {
          "base_uri": "https://localhost:8080/"
        },
        "id": "nrA11Tj6Z1h3",
        "outputId": "1f8a63ac-78ce-4d0d-9581-03c20fed54cf"
      },
      "source": [
        "tag2idx"
      ],
      "execution_count": null,
      "outputs": [
        {
          "output_type": "execute_result",
          "data": {
            "text/plain": [
              "OrderedDict([('<PAD>', 0),\n",
              "             ('B-ATO', 1),\n",
              "             ('I-ATO', 2),\n",
              "             ('O', 3),\n",
              "             ('B-NOME_ATO', 4),\n",
              "             ('I-NOME_ATO', 5),\n",
              "             ('B-COD_MATRICULA_ATO', 6),\n",
              "             ('B-CARGO', 7),\n",
              "             ('I-CARGO', 8),\n",
              "             ('B-CLASSE', 9),\n",
              "             ('I-CLASSE', 10),\n",
              "             ('B-PADRAO', 11),\n",
              "             ('I-PADRAO', 12),\n",
              "             ('B-FUND_LEGAL', 13),\n",
              "             ('I-FUND_LEGAL', 14),\n",
              "             ('B-PROCESSO', 15),\n",
              "             ('B-QUADRO', 16),\n",
              "             ('I-QUADRO', 17),\n",
              "             ('B-EMPRESA_ATO', 18),\n",
              "             ('I-EMPRESA_ATO', 19),\n",
              "             ('I-PROCESSO', 20),\n",
              "             ('I-COD_MATRICULA_ATO', 21)])"
            ]
          },
          "metadata": {},
          "execution_count": 8
        }
      ]
    },
    {
      "cell_type": "code",
      "metadata": {
        "colab": {
          "base_uri": "https://localhost:8080/"
        },
        "id": "p3qDnAfkM020",
        "outputId": "7912b794-f27f-49e8-b128-3d9a9726175f"
      },
      "source": [
        "for idx, word in enumerate(word2idx):\n",
        "    print(word, word2idx[word])\n",
        "    if idx >= 20:\n",
        "        break"
      ],
      "execution_count": null,
      "outputs": [
        {
          "output_type": "stream",
          "name": "stdout",
          "text": [
            "<UNK> 0\n",
            "<PAD> 1\n",
            "<BOS> 2\n",
            "<EOS> 3\n",
            "CONCEDER 4\n",
            "aposentadoria 5\n",
            "voluntaria 6\n",
            "ao 7\n",
            "servidor 8\n",
            "MANOEL 9\n",
            "FRANCISCO 10\n",
            "DOS 11\n",
            "SANTOS 12\n",
            "matricula 13\n",
            "no 14\n",
            "000.000-X 15\n",
            "Tecnico 16\n",
            "Socioeducativo 17\n",
            "- 18\n",
            "Classe 19\n",
            "Especial 20\n"
          ]
        }
      ]
    },
    {
      "cell_type": "markdown",
      "metadata": {
        "id": "4tnWIKiScnza"
      },
      "source": [
        "### Passo 3: Substituir as palavras e classes pelos seus indices nos dicionarios criados"
      ]
    },
    {
      "cell_type": "code",
      "metadata": {
        "id": "bmBP2mxBXHNL"
      },
      "source": [
        "def numericalize(sentences, word2idx, tag_sentences, tag2idx):\n",
        "    numericalized_sentences = [[word2idx['<UNK>'] if word not in word2idx else word2idx[word] for word in sentence] for sentence in sentences]\n",
        "    numericalized_tags = [[tag2idx[tag] for tag in tags] for tags in tag_sentences]\n",
        "    return numericalized_sentences, numericalized_tags\n",
        "\n",
        "train_x, train_y = numericalize(train_x, word2idx, train_y, tag2idx)\n",
        "valid_x, valid_y = numericalize(valid_x, word2idx, valid_y, tag2idx)\n",
        "test_x, test_y = numericalize(test_x, word2idx, test_y, tag2idx)\n",
        "\n",
        "train_x[0]"
      ],
      "execution_count": null,
      "outputs": []
    },
    {
      "cell_type": "markdown",
      "metadata": {
        "id": "Gp6s9AHhcsGd"
      },
      "source": [
        "### Passo 4: Adicionar tokens de inicio e final de sentenca"
      ]
    },
    {
      "cell_type": "code",
      "metadata": {
        "id": "eeFNWXMNcvmo",
        "colab": {
          "base_uri": "https://localhost:8080/"
        },
        "outputId": "92eb95c9-12a1-43a4-e397-8109ed4c43fd"
      },
      "source": [
        "import itertools\n",
        "import torch\n",
        "def add_special_tokens(sentences, word2idx, tag_sentences, tag2idx):\n",
        "    formatted_sentences = [torch.LongTensor([word for word in itertools.chain([word2idx['<BOS>']], sentence, [word2idx['<EOS>']])]) for sentence in sentences]\n",
        "    formatted_tags = [torch.LongTensor([tag for tag in itertools.chain([tag2idx['O']], tags, [tag2idx['O']])]) for tags in tag_sentences]\n",
        "    return formatted_sentences, formatted_tags\n",
        "\n",
        "train_x, train_y = add_special_tokens(train_x, word2idx, train_y, tag2idx)\n",
        "valid_x, valid_y = add_special_tokens(valid_x, word2idx, valid_y, tag2idx)\n",
        "test_x, test_y   = add_special_tokens(test_x, word2idx, test_y, tag2idx)\n",
        "\n",
        "train_x[0]"
      ],
      "execution_count": null,
      "outputs": [
        {
          "output_type": "execute_result",
          "data": {
            "text/plain": [
              "tensor([ 2,  4,  5,  6,  7,  8,  9, 10, 11, 12, 13, 14, 15, 16, 17, 18, 19, 20,\n",
              "        21, 22, 23, 24, 25, 26, 27, 28, 29, 30, 31, 32, 33, 34, 35, 36, 37, 38,\n",
              "        14, 39, 40, 41, 42, 27, 43, 36, 44, 45, 14, 46, 41, 47, 48, 26, 27, 28,\n",
              "        36, 44, 14, 49, 50, 51, 14, 52,  3])"
            ]
          },
          "metadata": {},
          "execution_count": 11
        }
      ]
    },
    {
      "cell_type": "markdown",
      "metadata": {
        "id": "d4i9cUlo7xjW"
      },
      "source": [
        "### Passo 5: Criar os mini-batches de treinamento"
      ]
    },
    {
      "cell_type": "code",
      "metadata": {
        "colab": {
          "base_uri": "https://localhost:8080/"
        },
        "id": "A7lF4EEwN3oN",
        "outputId": "b8137df2-1af1-4510-99f4-1492731bc931"
      },
      "source": [
        "len(train_x), max([len(ato) for ato in train_x])"
      ],
      "execution_count": null,
      "outputs": [
        {
          "output_type": "execute_result",
          "data": {
            "text/plain": [
              "(3860, 498)"
            ]
          },
          "metadata": {},
          "execution_count": 12
        }
      ]
    },
    {
      "cell_type": "code",
      "metadata": {
        "id": "UdA-9Z3wcvU3"
      },
      "source": [
        "import numpy as np\n",
        "\n",
        "# Ordenando sentencas por tamanho (antes de criar os batches)\n",
        "ordered_idx = np.argsort([len(train_x[i]) for i in range(len(train_x))])\n",
        "train_x = [train_x[idx] for idx in ordered_idx]\n",
        "train_y = [train_y[idx] for idx in ordered_idx]"
      ],
      "execution_count": null,
      "outputs": []
    },
    {
      "cell_type": "code",
      "metadata": {
        "id": "c3JCl6DmNMSY"
      },
      "source": [
        "from torch.nn.utils.rnn import pad_sequence\n",
        "\n",
        "def create_batches(x, y, batch_size, pad_token, pad_class):\n",
        "    batch_x = []\n",
        "    batch_y = []\n",
        "    mask = []\n",
        "\n",
        "    # Separando os batches pelo tamanho de batch_size\n",
        "    i = 0\n",
        "    while i < len(x):\n",
        "        batch_x.append(x[i:min(len(x), i+batch_size)])\n",
        "        batch_y.append(y[i:min(len(y), i+batch_size)])\n",
        "        i += batch_size\n",
        "    \n",
        "    # Realizando padding dos batches e criando mask para identificar padding durante o treinamento\n",
        "    for i in range(len(batch_x)):\n",
        "        batch_x[i] = pad_sequence(batch_x[i], batch_first = True, padding_value = pad_token)\n",
        "        batch_y[i] = pad_sequence(batch_y[i], batch_first = True, padding_value = pad_class)\n",
        "        mask.append(batch_x[i] != pad_token)\n",
        "\n",
        "    return batch_x, batch_y, mask\n",
        "\n",
        "train_x, train_y, mask = create_batches(train_x, train_y, batch_size=32, pad_token=word2idx['<PAD>'], pad_class=tag2idx['<PAD>'])\n",
        "valid_x, _, valid_mask = create_batches(valid_x, valid_y, batch_size=len(valid_x), pad_token=word2idx['<PAD>'], pad_class=tag2idx['<PAD>'])\n",
        "test_x, _, test_mask   = create_batches(test_x,  test_y,  batch_size=len(test_x),  pad_token=word2idx['<PAD>'], pad_class=tag2idx['<PAD>'])"
      ],
      "execution_count": null,
      "outputs": []
    },
    {
      "cell_type": "code",
      "metadata": {
        "colab": {
          "base_uri": "https://localhost:8080/"
        },
        "id": "o2epR3VVaLOT",
        "outputId": "735998ba-4599-4beb-961d-9b6a564eb4b6"
      },
      "source": [
        "train_x[0].shape, train_y[0].shape, mask[0].shape"
      ],
      "execution_count": null,
      "outputs": [
        {
          "output_type": "execute_result",
          "data": {
            "text/plain": [
              "(torch.Size([32, 54]), torch.Size([32, 54]), torch.Size([32, 54]))"
            ]
          },
          "metadata": {},
          "execution_count": 15
        }
      ]
    },
    {
      "cell_type": "code",
      "metadata": {
        "colab": {
          "base_uri": "https://localhost:8080/"
        },
        "id": "Od1MY1uX7ORu",
        "outputId": "a7779ba7-2964-4d10-d921-bd78f08cd3ee"
      },
      "source": [
        "train_x[0][0, :mask[0][0].sum()]"
      ],
      "execution_count": null,
      "outputs": [
        {
          "output_type": "execute_result",
          "data": {
            "text/plain": [
              "tensor([   2,    4,    5,   53,   80,  499,   56,  607, 1425,   13,   14,   84,\n",
              "          14,  773,   42,  753,   62,  328,   62,  754,   19,   20,   36,  669,\n",
              "          62,  754,  755,   26,   68,   69,   24,   25,   26,   27,   28,   36,\n",
              "          37,   38,   14,   39,    3])"
            ]
          },
          "metadata": {},
          "execution_count": 19
        }
      ]
    },
    {
      "cell_type": "markdown",
      "metadata": {
        "id": "w-5MmRQ6bx3z"
      },
      "source": [
        "# Criando o modelo neural biLSTM-CRF\n",
        "\n",
        "O modelo consiste em:\n",
        "\n",
        "\n",
        "\n",
        "1.   Camada de embeddings (transforma indices das palavras em vetores numericos)\n",
        "2.   Camada biLSTM para encode da informação (-> <-)\n",
        "3.   Camada linear para reducao da dimensao do vetor de saida da camada biLSTM\n",
        "3.   Camada CRF para classificação de cada token de entrada\n",
        "\n"
      ]
    },
    {
      "cell_type": "code",
      "metadata": {
        "id": "LHHBkappb6dh"
      },
      "source": [
        "from torchcrf import CRF"
      ],
      "execution_count": null,
      "outputs": []
    },
    {
      "cell_type": "code",
      "metadata": {
        "id": "LG4oU-f0WZ37"
      },
      "source": [
        "class bilstm_crf(torch.nn.Module):\n",
        "    def __init__(self, word2idx, tag2idx):\n",
        "        super(bilstm_crf, self).__init__()\n",
        "        # Camada de embeddings\n",
        "        self.embedding = torch.nn.Embedding(num_embeddings=len(word2idx), embedding_dim = 50, padding_idx = word2idx['<PAD>'])\n",
        "        # Camada biLSTM\n",
        "        self.bilstm = torch.nn.LSTM(input_size=50, hidden_size = 200, num_layers = 2, batch_first = True, bidirectional = True, dropout = 0.25)\n",
        "        # Camada linear\n",
        "        self.linear = torch.nn.Linear(400, len(tag2idx))\n",
        "        # Camada CRF\n",
        "        self.crf = CRF(num_tags = len(tag2idx), batch_first = True)\n",
        "\n",
        "    def forward(self, x, y, mask):\n",
        "        x = self.embedding(x)\n",
        "        x, _ = self.bilstm(x)\n",
        "        x = self.linear(x)\n",
        "        loss = self.crf(x, y, mask=mask)\n",
        "        return loss\n",
        "\n",
        "    def decode(self, x, mask):\n",
        "        x = self.embedding(x)\n",
        "        x, _ = self.bilstm(x)\n",
        "        x = self.linear(x)\n",
        "        prediction = self.crf.decode(x, mask=mask)\n",
        "        return prediction\n",
        "    "
      ],
      "execution_count": null,
      "outputs": []
    },
    {
      "cell_type": "code",
      "metadata": {
        "colab": {
          "base_uri": "https://localhost:8080/"
        },
        "id": "1bspNzKjf8tN",
        "outputId": "c9e794d2-9418-4a81-fef9-39282c8ae180"
      },
      "source": [
        "model = bilstm_crf(word2idx = word2idx, tag2idx = tag2idx)\n",
        "loss = model(train_x[0], train_y[0], mask[0])\n",
        "prediction = model.decode(valid_x[0], valid_mask[0])\n",
        "\n",
        "loss"
      ],
      "execution_count": null,
      "outputs": [
        {
          "output_type": "execute_result",
          "data": {
            "text/plain": [
              "tensor(-5124.3311, grad_fn=<SumBackward0>)"
            ]
          },
          "metadata": {},
          "execution_count": 24
        }
      ]
    },
    {
      "cell_type": "code",
      "metadata": {
        "id": "55_v9H_QgQPk",
        "colab": {
          "base_uri": "https://localhost:8080/"
        },
        "outputId": "9fd8a4df-a80d-4a1a-83cc-a2325e5be7b8"
      },
      "source": [
        "device = torch.device(\"cuda\" if torch.cuda.is_available() else \"cpu\")\n",
        "print(device)\n",
        "model = model.to(device)"
      ],
      "execution_count": null,
      "outputs": [
        {
          "output_type": "stream",
          "name": "stdout",
          "text": [
            "cuda\n"
          ]
        }
      ]
    },
    {
      "cell_type": "markdown",
      "metadata": {
        "id": "obaBhJo8jbPm"
      },
      "source": [
        "# Código para avaliação do modelo\n",
        "\n",
        "Métrica span-based f1-score (f1-score a nível de entidades)\n",
        "\n",
        "$f_1 = 2\\frac{precision\\times recall}{precision + recall}$\n",
        "\n",
        "$precision = \\frac{TP}{TP + FP}$\n",
        "\n",
        "$recall = \\frac{TP}{TP + FN}$"
      ]
    },
    {
      "cell_type": "code",
      "metadata": {
        "id": "W3l49rHVjamm"
      },
      "source": [
        "from seqeval.metrics import f1_score\n",
        "from seqeval.scheme import IOB1"
      ],
      "execution_count": null,
      "outputs": []
    },
    {
      "cell_type": "code",
      "metadata": {
        "id": "3q5BJRgEk7CL"
      },
      "source": [
        "idx2tag = {idx: tag for tag, idx in tag2idx.items()}\n",
        "\n",
        "def IOBify(tags_sequence, idx2tag):\n",
        "    if isinstance(tags_sequence[0], list):\n",
        "        iob_y = [[idx2tag[tag] for tag in tags] for tags in tags_sequence]\n",
        "    else:\n",
        "        iob_y = [[idx2tag[tag.item()] for tag in tags] for tags in tags_sequence]\n",
        "    return iob_y\n",
        "\n",
        "y_true = IOBify(valid_y, idx2tag)\n",
        "y_pred = IOBify(prediction, idx2tag)"
      ],
      "execution_count": null,
      "outputs": []
    },
    {
      "cell_type": "code",
      "metadata": {
        "colab": {
          "base_uri": "https://localhost:8080/"
        },
        "id": "fkw5JexZpq41",
        "outputId": "d2cc94f7-befc-4502-ab91-38bce1bc1d20"
      },
      "source": [
        "f1_score(y_true, y_pred)"
      ],
      "execution_count": null,
      "outputs": [
        {
          "output_type": "execute_result",
          "data": {
            "text/plain": [
              "0.02055514263013558"
            ]
          },
          "metadata": {},
          "execution_count": 31
        }
      ]
    },
    {
      "cell_type": "markdown",
      "metadata": {
        "id": "Qdb3mNgokXzn"
      },
      "source": [
        "# Código para treinamento do modelo"
      ]
    },
    {
      "cell_type": "code",
      "metadata": {
        "id": "NIo2HrZvulj4"
      },
      "source": [
        "if dataset == 'aposentadoria':\n",
        "    lrate = 0.0015\n",
        "else:\n",
        "    lrate = 0.01\n",
        "optim = torch.optim.SGD(model.parameters(), lr=lrate, momentum=0.9)"
      ],
      "execution_count": null,
      "outputs": []
    },
    {
      "cell_type": "code",
      "metadata": {
        "colab": {
          "base_uri": "https://localhost:8080/"
        },
        "id": "_2pJ8HLRkZkx",
        "outputId": "317ae45d-18e3-4c69-e956-2d048d20cf0e"
      },
      "source": [
        "f1_history = []\n",
        "mean_loss_history = []\n",
        "\n",
        "# Alterar numero de epocas de treinamento (~30-50 epocas para modelo bem treinado)\n",
        "for epoch in range(2):\n",
        "    mean_loss = 0.0\n",
        "    model.train()\n",
        "    # Iniciando uma epoch de treinamento supervisionado\n",
        "    for batch in range(len(train_x)):\n",
        "        x = train_x[batch].to(device)\n",
        "        y = train_y[batch].to(device)\n",
        "        m = mask[batch].to(device)\n",
        "        optim.zero_grad()\n",
        "        loss = -model(x, y, m)\n",
        "        loss.backward()\n",
        "        torch.nn.utils.clip_grad_norm_(model.parameters(), 5.0)\n",
        "        optim.step()\n",
        "        mean_loss += loss\n",
        "    mean_loss /= len(train_x)\n",
        "    mean_loss_history.append(mean_loss)\n",
        "\n",
        "    model.eval()\n",
        "    # Calculo do desempenho do modelo treinado nesta epoch\n",
        "    y_pred = model.decode(valid_x[0].to(device), valid_mask[0].to(device))\n",
        "    y_pred = IOBify(y_pred, idx2tag)\n",
        "    y_true = IOBify(valid_y, idx2tag)\n",
        "    f1 = f1_score(y_true, y_pred)\n",
        "    f1_history.append(f1)\n",
        "\n",
        "    print(f'Epoch: {epoch} | Loss media: {mean_loss} | f1-score: {f1}')\n",
        "\n"
      ],
      "execution_count": null,
      "outputs": [
        {
          "output_type": "stream",
          "name": "stdout",
          "text": [
            "Epoch: 0 | Loss media: 4072.568603515625 | f1-score: 0.008746355685131194\n",
            "Epoch: 1 | Loss media: 1828.18017578125 | f1-score: 0.21584797418429547\n",
            "Epoch: 2 | Loss media: 881.9417724609375 | f1-score: 0.6730172476004906\n"
          ]
        }
      ]
    },
    {
      "cell_type": "code",
      "metadata": {
        "colab": {
          "base_uri": "https://localhost:8080/",
          "height": 296
        },
        "id": "sGzXOza14uDk",
        "outputId": "3b358054-f2d2-4506-f8ac-a9b4cc6ccd21"
      },
      "source": [
        "import matplotlib.pyplot as plt\n",
        "\n",
        "fig, axs = plt.subplots(2)\n",
        "axs[0].plot(f1_history)\n",
        "axs[1].plot(mean_loss_history)\n",
        "axs[0].set(ylabel='f1-score')\n",
        "axs[1].set(xlabel='epochs', ylabel='mean loss')"
      ],
      "execution_count": null,
      "outputs": [
        {
          "output_type": "execute_result",
          "data": {
            "text/plain": [
              "[Text(0, 0.5, 'mean loss'), Text(0.5, 0, 'epochs')]"
            ]
          },
          "metadata": {},
          "execution_count": 39
        },
        {
          "output_type": "display_data",
          "data": {
            "image/png": "[encoded data removed]",
            "text/plain": [
              "<Figure size 432x288 with 2 Axes>"
            ]
          },
          "metadata": {
            "needs_background": "light"
          }
        }
      ]
    },
    {
      "cell_type": "markdown",
      "metadata": {
        "id": "WhTgQG0OkaKd"
      },
      "source": [
        "# Utilização do modelo treinado para predição em novos dados e interface com usuário\n",
        "\n",
        "Passos:\n",
        "\n",
        "\n",
        "1.   Transformar as palavras do texto em indices utilizando o dicionario word2idx e converter para tensor\n",
        "2.   Realizar as predições\n",
        "3.   Realizar extração das entidades de acordo com as predições\n",
        "\n"
      ]
    },
    {
      "cell_type": "code",
      "metadata": {
        "colab": {
          "base_uri": "https://localhost:8080/"
        },
        "id": "chMrdiEeE8in",
        "outputId": "92ad9f1b-3ab5-4f78-8dc8-2171e70cca5d"
      },
      "source": [
        "# Baixando e Carregando modelo ja treinado (comentar esta celula caso queira utilizar o modelo treinado nas celulas anteriores)\n",
        "if dataset == 'aposentadoria':\n",
        "    !gdown --id 1-dLZAt2yYUc8oPUffP_USVIXJFaimP3G\n",
        "    !tar -xvzf model.tar.gz\n",
        "    model.load_state_dict(torch.load('/content/model/ner_class.pt'))\n",
        "else:\n",
        "    !gdown --id 1t-2xJ3hGzIO0ecfBk6LOawOXunOoJ0C_\n",
        "    model.load_state_dict(torch.load('/content/nomeacao_model.pt'))"
      ],
      "execution_count": null,
      "outputs": [
        {
          "output_type": "stream",
          "name": "stdout",
          "text": [
            "Downloading...\n",
            "From: https://drive.google.com/uc?id=1-dLZAt2yYUc8oPUffP_USVIXJFaimP3G\n",
            "To: /content/model.tar.gz\n",
            "5.87MB [00:00, 27.3MB/s]\n",
            "model/\n",
            "model/ner_class.pt\n"
          ]
        }
      ]
    },
    {
      "cell_type": "markdown",
      "metadata": {
        "id": "bUJELLfZ_WT4"
      },
      "source": [
        "### Passo 1: Transformar as palavras em indices utilizando word2idx"
      ]
    },
    {
      "cell_type": "code",
      "metadata": {
        "colab": {
          "base_uri": "https://localhost:8080/"
        },
        "id": "ITRrNm2PC43T",
        "outputId": "a69a30f7-d6a9-4b48-94cf-36aa0cd849e0"
      },
      "source": [
        "text = '<BOS> CONCEDER aposentadoria voluntaria integral ao servidor SILONI SOARES DA SILVA matricula n.o 00.000-0 no cargo de Auditor-Fiscal da Receita do Distrito Federal Classe Especial Padrao III do Quadro de Pessoal do Distrito Federal nos termos do artigo 0o incisos I II e III e Paragrafo unico da Emenda Constitucional n.o 00 de 00/00/0000 combinado com o artigo 00 da Lei Complementar n.o 000 de 00/00/0000 com a vantagem pessoal prevista no artigo 0o da Lei no 0.000 de 00/00/0000 Secretaria de Estado de Fazenda Planejamento Orcamento e Gestao do Distrito Federal Processo SEI n.o 00000- 00000000/0000-00 <EOS>'.split()\n",
        "print(' '.join(text))"
      ],
      "execution_count": null,
      "outputs": [
        {
          "output_type": "stream",
          "name": "stdout",
          "text": [
            "<BOS> CONCEDER aposentadoria voluntaria integral ao servidor SILONI SOARES DA SILVA matricula n.o 00.000-0 no cargo de Auditor-Fiscal da Receita do Distrito Federal Classe Especial Padrao III do Quadro de Pessoal do Distrito Federal nos termos do artigo 0o incisos I II e III e Paragrafo unico da Emenda Constitucional n.o 00 de 00/00/0000 combinado com o artigo 00 da Lei Complementar n.o 000 de 00/00/0000 com a vantagem pessoal prevista no artigo 0o da Lei no 0.000 de 00/00/0000 Secretaria de Estado de Fazenda Planejamento Orcamento e Gestao do Distrito Federal Processo SEI n.o 00000- 00000000/0000-00 <EOS>\n"
          ]
        }
      ]
    },
    {
      "cell_type": "code",
      "metadata": {
        "colab": {
          "base_uri": "https://localhost:8080/"
        },
        "id": "UOC2UjIqkgQP",
        "outputId": "83d726d2-4dad-4109-a605-7e819d6faaf1"
      },
      "source": [
        "if dataset == 'aposentadoria':\n",
        "    text = '<BOS> CONCEDER aposentadoria voluntaria integral ao servidor SILONI SOARES DA SILVA matricula n.o 00.000-0 no cargo de Auditor-Fiscal da Receita do Distrito Federal Classe Especial Padrao III do Quadro de Pessoal do Distrito Federal nos termos do artigo 0o incisos I II e III e Paragrafo unico da Emenda Constitucional n.o 00 de 00/00/0000 combinado com o artigo 00 da Lei Complementar n.o 000 de 00/00/0000 com a vantagem pessoal prevista no artigo 0o da Lei no 0.000 de 00/00/0000 Secretaria de Estado de Fazenda Planejamento Orcamento e Gestao do Distrito Federal Processo SEI n.o 00000- 00000000/0000-00 <EOS>'.split()\n",
        "else:\n",
        "    text = 'BOS NOMEAR GRASIELA HAUQUI CERUTTI para exercer o Cargo de Natureza Especial Sim bolo CNE 07 de Coordenador de Ouvidorias da Ouvidoria da Governadoria do Distrito Federal EOS'.split()\n",
        "\n",
        "num_text = torch.LongTensor([word2idx['<UNK>'] if word not in word2idx else word2idx[word] for word in text]).unsqueeze(dim=0)\n",
        "mask = num_text != -1\n",
        "num_text.shape, mask.shape"
      ],
      "execution_count": null,
      "outputs": [
        {
          "output_type": "execute_result",
          "data": {
            "text/plain": [
              "(torch.Size([1, 98]), torch.Size([1, 98]))"
            ]
          },
          "metadata": {},
          "execution_count": 37
        }
      ]
    },
    {
      "cell_type": "markdown",
      "metadata": {
        "id": "hwT-Tipv_c-v"
      },
      "source": [
        "### Passo 2: Realizar predições"
      ]
    },
    {
      "cell_type": "code",
      "metadata": {
        "id": "AqQY9yZ-8XyV"
      },
      "source": [
        "model = model.to('cpu')"
      ],
      "execution_count": null,
      "outputs": []
    },
    {
      "cell_type": "code",
      "metadata": {
        "colab": {
          "base_uri": "https://localhost:8080/"
        },
        "id": "6WgukIwD74HC",
        "outputId": "26929600-940a-41e3-e163-daf3840c7947"
      },
      "source": [
        "y_pred = model.decode(num_text, mask)\n",
        "y_pred = IOBify(y_pred, idx2tag)\n",
        "for idx, (word, tag) in enumerate(zip(text, y_pred[0])):\n",
        "    print(word, tag)\n",
        "    if idx >= 20:\n",
        "        break"
      ],
      "execution_count": null,
      "outputs": [
        {
          "output_type": "stream",
          "name": "stdout",
          "text": [
            "<BOS> O\n",
            "CONCEDER B-ATO\n",
            "aposentadoria I-ATO\n",
            "voluntaria O\n",
            "integral O\n",
            "ao O\n",
            "servidor O\n",
            "SILONI B-NOME_ATO\n",
            "SOARES I-NOME_ATO\n",
            "DA I-NOME_ATO\n",
            "SILVA I-NOME_ATO\n",
            "matricula O\n",
            "n.o O\n",
            "00.000-0 B-COD_MATRICULA_ATO\n",
            "no O\n",
            "cargo O\n",
            "de O\n",
            "Auditor-Fiscal B-CARGO\n",
            "da I-CARGO\n",
            "Receita I-CARGO\n",
            "do I-CARGO\n"
          ]
        }
      ]
    },
    {
      "cell_type": "markdown",
      "metadata": {
        "id": "qy7nDudU_mS2"
      },
      "source": [
        "### Passo 3: Realizar extração das entidades de acordo com as predições"
      ]
    },
    {
      "cell_type": "code",
      "metadata": {
        "id": "0KIfxDeD8aaI"
      },
      "source": [
        "def extract_entities(y_pred, text):\n",
        "    inside_entity = False\n",
        "    entity_type = ''\n",
        "    entity = ''\n",
        "    entities = []\n",
        "    for word, tag in zip(text, y_pred[0]):\n",
        "        if not inside_entity:\n",
        "            if tag[0] == 'B':\n",
        "                inside_entity = True\n",
        "                entity = word\n",
        "                entity_type = tag[2:]\n",
        "        else:\n",
        "            if tag[0] == 'B':\n",
        "                entities.append((entity_type, entity))\n",
        "                entity = word\n",
        "                entity_type = tag[2:]\n",
        "                inside_entity = True\n",
        "            elif tag[0] == 'I':\n",
        "                entity = entity + ' ' + word\n",
        "                inside_entity = True\n",
        "            else:\n",
        "                entities.append((entity_type, entity))\n",
        "                entity = ''\n",
        "                entity_type = 'O'\n",
        "                inside_entity = False\n",
        "    return entities\n",
        "\n",
        "entities = extract_entities(y_pred, text)"
      ],
      "execution_count": null,
      "outputs": []
    },
    {
      "cell_type": "code",
      "metadata": {
        "colab": {
          "base_uri": "https://localhost:8080/"
        },
        "id": "H_l51CHq-HsZ",
        "outputId": "9d29aab6-9813-454a-d81c-2ac6b85261fc"
      },
      "source": [
        "entities"
      ],
      "execution_count": null,
      "outputs": [
        {
          "output_type": "execute_result",
          "data": {
            "text/plain": [
              "[('ATO', 'CONCEDER aposentadoria'),\n",
              " ('NOME_ATO', 'SILONI SOARES DA SILVA'),\n",
              " ('COD_MATRICULA_ATO', '00.000-0'),\n",
              " ('CARGO', 'Auditor-Fiscal da Receita do Distrito Federal'),\n",
              " ('CLASSE', 'Classe Especial'),\n",
              " ('PADRAO', 'Padrao III'),\n",
              " ('QUADRO', 'Quadro de Pessoal do Distrito Federal'),\n",
              " ('FUND_LEGAL',\n",
              "  'nos termos do artigo 0o incisos I II e III e Paragrafo unico da Emenda Constitucional n.o 00 de 00/00/0000 combinado com o artigo 00 da Lei Complementar n.o 000 de 00/00/0000 com a vantagem pessoal prevista no artigo 0o da Lei no 0.000 de 00/00/0000'),\n",
              " ('EMPRESA_ATO',\n",
              "  'Secretaria de Estado de Fazenda Planejamento Orcamento e Gestao do Distrito Federal'),\n",
              " ('PROCESSO', '00000- 00000000/0000-00')]"
            ]
          },
          "metadata": {},
          "execution_count": 41
        }
      ]
    },
    {
      "cell_type": "code",
      "metadata": {
        "id": "58VEBm81Dg2u"
      },
      "source": [
        ""
      ],
      "execution_count": null,
      "outputs": []
    }
  ]
}